{
 "cells": [
  {
   "cell_type": "code",
   "execution_count": 85,
   "metadata": {},
   "outputs": [],
   "source": [
    "from tfmc.loader import load_tf_model\n",
    "from tfmc.schema_gen import generate_schema"
   ]
  },
  {
   "cell_type": "code",
   "execution_count": 86,
   "metadata": {},
   "outputs": [],
   "source": [
    "schema = generate_schema()\n",
    "model = load_tf_model(\"aws_ec2_ebs_docker_host\")\n",
    "\n",
    "resources = model[\"resources\"]"
   ]
  },
  {
   "cell_type": "markdown",
   "metadata": {},
   "source": [
    "Objective: Generate"
   ]
  },
  {
   "cell_type": "code",
   "execution_count": 87,
   "metadata": {},
   "outputs": [
    {
     "name": "stdout",
     "output_type": "stream",
     "text": [
      "TODO: Handle assoc <class 'str'> ids\n",
      "aws_instance::availability_zone -> attrs\n",
      "('aws_instance::this', 'aws_instance::availability_zone', (None, 'string'))\n",
      "Skipping aws_instance::connection: not in MM\n",
      "aws_instance::id -> attrs\n",
      "('aws_instance::this', 'aws_instance::id', ('1afb7d50-edbf-45f9-81c5-982886b3a370', 'string'))\n",
      "aws_instance::instance_type -> attrs\n",
      "('aws_instance::this', 'aws_instance::instance_type', ('t2.micro', 'string'))\n",
      "('aws_instance::this', 'aws_instance::key_name', 'aws_key_pair::this')\n",
      "Skipping aws_instance::provisioner: not in MM\n",
      "TODO: Handle nested blocks\n",
      "('aws_instance::this', 'aws_instance::subnet_id', 'aws_subnet::this')\n",
      "aws_instance::tags -> attrs\n",
      "('aws_instance::this', 'aws_instance::tags', (None, ['map', 'string']))\n",
      "aws_instance::user_data -> attrs\n",
      "('aws_instance::this', 'aws_instance::user_data', ('c76c92caab5680f9623e7da1edf121efe95546f6', 'string'))\n",
      "aws_instance::volume_tags -> attrs\n",
      "('aws_instance::this', 'aws_instance::volume_tags', (None, ['map', 'string']))\n",
      "('aws_instance::this', 'aws_instance::vpc_security_group_ids', 'aws_security_group::this')\n",
      "('aws_instance::this', 'aws_instance::vpc_security_group_ids', 'aws_security_group::that')\n",
      "aws_key_pair::id -> attrs\n",
      "('aws_key_pair::this', 'aws_key_pair::id', ('e6c48d54-e974-4d46-84f9-9092bbc603ca', 'string'))\n",
      "aws_key_pair::public_key -> attrs\n",
      "('aws_key_pair::this', 'aws_key_pair::public_key', (None, 'string'))\n",
      "aws_security_group::id -> attrs\n",
      "('aws_security_group::that', 'aws_security_group::id', ('3bdb5360-7920-4516-860c-7aa924b2b45a', 'string'))\n",
      "aws_security_group::tags -> attrs\n",
      "('aws_security_group::that', 'aws_security_group::tags', (None, ['map', 'string']))\n",
      "('aws_security_group::that', 'aws_security_group::vpc_id', 'aws_vpc::this')\n",
      "aws_security_group::id -> attrs\n",
      "('aws_security_group::this', 'aws_security_group::id', ('d77d9ff3-a5c8-42b7-8804-8e3fa5f17700', 'string'))\n",
      "aws_security_group::tags -> attrs\n",
      "('aws_security_group::this', 'aws_security_group::tags', (None, ['map', 'string']))\n",
      "('aws_security_group::this', 'aws_security_group::vpc_id', 'aws_vpc::this')\n",
      "aws_security_group_rule::cidr_blocks -> attrs\n",
      "('aws_security_group_rule::incoming_ssh', 'aws_security_group_rule::cidr_blocks', (['0.0.0.0/0'], ['list', 'string']))\n",
      "aws_security_group_rule::from_port -> attrs\n",
      "('aws_security_group_rule::incoming_ssh', 'aws_security_group_rule::from_port', (22, 'number'))\n",
      "aws_security_group_rule::id -> attrs\n",
      "('aws_security_group_rule::incoming_ssh', 'aws_security_group_rule::id', ('c673c512-058a-47ef-9453-42c0a0e3c83c', 'string'))\n",
      "aws_security_group_rule::protocol -> attrs\n",
      "('aws_security_group_rule::incoming_ssh', 'aws_security_group_rule::protocol', ('tcp', 'string'))\n",
      "('aws_security_group_rule::incoming_ssh', 'aws_security_group_rule::security_group_id', 'aws_security_group::this')\n",
      "aws_security_group_rule::to_port -> attrs\n",
      "('aws_security_group_rule::incoming_ssh', 'aws_security_group_rule::to_port', (22, 'number'))\n",
      "aws_security_group_rule::type -> attrs\n",
      "('aws_security_group_rule::incoming_ssh', 'aws_security_group_rule::type', ('ingress', 'string'))\n",
      "aws_security_group_rule::cidr_blocks -> attrs\n",
      "('aws_security_group_rule::outgoing_any', 'aws_security_group_rule::cidr_blocks', (['0.0.0.0/0'], ['list', 'string']))\n",
      "aws_security_group_rule::from_port -> attrs\n",
      "('aws_security_group_rule::outgoing_any', 'aws_security_group_rule::from_port', (0, 'number'))\n",
      "aws_security_group_rule::id -> attrs\n",
      "('aws_security_group_rule::outgoing_any', 'aws_security_group_rule::id', ('8b2ff806-00db-4fb1-965b-97da839adaa6', 'string'))\n",
      "aws_security_group_rule::protocol -> attrs\n",
      "('aws_security_group_rule::outgoing_any', 'aws_security_group_rule::protocol', ('-1', 'string'))\n",
      "('aws_security_group_rule::outgoing_any', 'aws_security_group_rule::security_group_id', 'aws_security_group::this')\n",
      "aws_security_group_rule::to_port -> attrs\n",
      "('aws_security_group_rule::outgoing_any', 'aws_security_group_rule::to_port', (0, 'number'))\n",
      "aws_security_group_rule::type -> attrs\n",
      "('aws_security_group_rule::outgoing_any', 'aws_security_group_rule::type', ('egress', 'string'))\n"
     ]
    }
   ],
   "source": [
    "elements = []\n",
    "associations = []\n",
    "attributes = []\n",
    "\n",
    "def handle_assoc_prop(source_catid, mm_id, target_cat, target_id, mm_category):\n",
    "    \n",
    "    # If assert fails: manually handle this exception through custom.yaml\n",
    "    assert target_cat == mm_category\n",
    "    assoc = source_catid, mm_id, f\"{target_cat}::{target_id}\"\n",
    "    return assoc\n",
    "\n",
    "for res_catid, res in resources.items():\n",
    "    elem, id = res_catid.split(\".\")\n",
    "\n",
    "    source_catid = f\"{elem}::{id}\"\n",
    "\n",
    "    for pk, prop in res.items():\n",
    "        if pk != '__tfmeta':\n",
    "            mm_id = f\"{elem}::{pk}\"\n",
    "            if mm_assoc := schema.associations.get(mm_id):\n",
    "                # print(f\"{mm_id} -> assoc\")\n",
    "                # print(mm_assoc)\n",
    "                # print(prop)\n",
    "                try:\n",
    "                    if mm_assoc.get('mm_nested_block'):\n",
    "                        print(\"TODO: Handle nested blocks\")\n",
    "                    else:\n",
    "                        mm_cat = mm_assoc.get('mm_type')\n",
    "                        if targets := prop.get('__attributes__'): # more than 1 target\n",
    "                            for target in targets:\n",
    "                                ts = target.split(\".\")\n",
    "                                tcat = ts[-3]\n",
    "                                tid = ts[-2]\n",
    "                                associations.append(\n",
    "                                    handle_assoc_prop(source_catid, mm_id, tcat, tid, mm_cat))\n",
    "                        elif target := prop.get('__attribute__'): # just 1 target\n",
    "                            target_cat =  prop.get('__type__')\n",
    "                            target_id = prop.get('__name__')\n",
    "                            associations.append(\n",
    "                                handle_assoc_prop(source_catid, mm_id, target_cat, target_id, mm_cat))\n",
    "                except AttributeError:\n",
    "                    print(f\"TODO: Handle assoc {type(prop)} ids\")\n",
    "            elif mm_attr := schema.attributes.get(mm_id):\n",
    "                # print(f\"{mm_id} -> attrs\")\n",
    "                # TODO: Handle weird types from the MM\n",
    "                value_and_type = prop, mm_attr.get('type')\n",
    "\n",
    "                attr = source_catid, mm_id, value_and_type\n",
    "                attributes.append(attr)\n",
    "            else:\n",
    "                print(f\"Skipping {mm_id}: not in MM\")\n",
    "\n",
    "    \n",
    "    # check if resource is supported:\n",
    "    if elem in schema.categories:\n",
    "        elements.append(elem)\n",
    "    else:\n",
    "        print(f\"unsupported category: {elem}\")"
   ]
  },
  {
   "cell_type": "code",
   "execution_count": 88,
   "metadata": {},
   "outputs": [
    {
     "data": {
      "text/plain": [
       "['aws_instance',\n",
       " 'aws_key_pair',\n",
       " 'aws_security_group',\n",
       " 'aws_security_group',\n",
       " 'aws_security_group_rule',\n",
       " 'aws_security_group_rule']"
      ]
     },
     "execution_count": 88,
     "metadata": {},
     "output_type": "execute_result"
    }
   ],
   "source": [
    "elements"
   ]
  },
  {
   "cell_type": "code",
   "execution_count": 89,
   "metadata": {},
   "outputs": [
    {
     "data": {
      "text/plain": [
       "[('aws_instance::this', 'aws_instance::key_name', 'aws_key_pair::this'),\n",
       " ('aws_instance::this', 'aws_instance::subnet_id', 'aws_subnet::this'),\n",
       " ('aws_instance::this',\n",
       "  'aws_instance::vpc_security_group_ids',\n",
       "  'aws_security_group::this'),\n",
       " ('aws_instance::this',\n",
       "  'aws_instance::vpc_security_group_ids',\n",
       "  'aws_security_group::that'),\n",
       " ('aws_security_group::that', 'aws_security_group::vpc_id', 'aws_vpc::this'),\n",
       " ('aws_security_group::this', 'aws_security_group::vpc_id', 'aws_vpc::this'),\n",
       " ('aws_security_group_rule::incoming_ssh',\n",
       "  'aws_security_group_rule::security_group_id',\n",
       "  'aws_security_group::this'),\n",
       " ('aws_security_group_rule::outgoing_any',\n",
       "  'aws_security_group_rule::security_group_id',\n",
       "  'aws_security_group::this')]"
      ]
     },
     "execution_count": 89,
     "metadata": {},
     "output_type": "execute_result"
    }
   ],
   "source": [
    "associations"
   ]
  },
  {
   "cell_type": "code",
   "execution_count": 90,
   "metadata": {},
   "outputs": [
    {
     "data": {
      "text/plain": [
       "[('aws_instance::this', 'aws_instance::availability_zone', (None, 'string')),\n",
       " ('aws_instance::this',\n",
       "  'aws_instance::id',\n",
       "  ('1afb7d50-edbf-45f9-81c5-982886b3a370', 'string')),\n",
       " ('aws_instance::this', 'aws_instance::instance_type', ('t2.micro', 'string')),\n",
       " ('aws_instance::this', 'aws_instance::tags', (None, ['map', 'string'])),\n",
       " ('aws_instance::this',\n",
       "  'aws_instance::user_data',\n",
       "  ('c76c92caab5680f9623e7da1edf121efe95546f6', 'string')),\n",
       " ('aws_instance::this',\n",
       "  'aws_instance::volume_tags',\n",
       "  (None, ['map', 'string'])),\n",
       " ('aws_key_pair::this',\n",
       "  'aws_key_pair::id',\n",
       "  ('e6c48d54-e974-4d46-84f9-9092bbc603ca', 'string')),\n",
       " ('aws_key_pair::this', 'aws_key_pair::public_key', (None, 'string')),\n",
       " ('aws_security_group::that',\n",
       "  'aws_security_group::id',\n",
       "  ('3bdb5360-7920-4516-860c-7aa924b2b45a', 'string')),\n",
       " ('aws_security_group::that',\n",
       "  'aws_security_group::tags',\n",
       "  (None, ['map', 'string'])),\n",
       " ('aws_security_group::this',\n",
       "  'aws_security_group::id',\n",
       "  ('d77d9ff3-a5c8-42b7-8804-8e3fa5f17700', 'string')),\n",
       " ('aws_security_group::this',\n",
       "  'aws_security_group::tags',\n",
       "  (None, ['map', 'string'])),\n",
       " ('aws_security_group_rule::incoming_ssh',\n",
       "  'aws_security_group_rule::cidr_blocks',\n",
       "  (['0.0.0.0/0'], ['list', 'string'])),\n",
       " ('aws_security_group_rule::incoming_ssh',\n",
       "  'aws_security_group_rule::from_port',\n",
       "  (22, 'number')),\n",
       " ('aws_security_group_rule::incoming_ssh',\n",
       "  'aws_security_group_rule::id',\n",
       "  ('c673c512-058a-47ef-9453-42c0a0e3c83c', 'string')),\n",
       " ('aws_security_group_rule::incoming_ssh',\n",
       "  'aws_security_group_rule::protocol',\n",
       "  ('tcp', 'string')),\n",
       " ('aws_security_group_rule::incoming_ssh',\n",
       "  'aws_security_group_rule::to_port',\n",
       "  (22, 'number')),\n",
       " ('aws_security_group_rule::incoming_ssh',\n",
       "  'aws_security_group_rule::type',\n",
       "  ('ingress', 'string')),\n",
       " ('aws_security_group_rule::outgoing_any',\n",
       "  'aws_security_group_rule::cidr_blocks',\n",
       "  (['0.0.0.0/0'], ['list', 'string'])),\n",
       " ('aws_security_group_rule::outgoing_any',\n",
       "  'aws_security_group_rule::from_port',\n",
       "  (0, 'number')),\n",
       " ('aws_security_group_rule::outgoing_any',\n",
       "  'aws_security_group_rule::id',\n",
       "  ('8b2ff806-00db-4fb1-965b-97da839adaa6', 'string')),\n",
       " ('aws_security_group_rule::outgoing_any',\n",
       "  'aws_security_group_rule::protocol',\n",
       "  ('-1', 'string')),\n",
       " ('aws_security_group_rule::outgoing_any',\n",
       "  'aws_security_group_rule::to_port',\n",
       "  (0, 'number')),\n",
       " ('aws_security_group_rule::outgoing_any',\n",
       "  'aws_security_group_rule::type',\n",
       "  ('egress', 'string'))]"
      ]
     },
     "execution_count": 90,
     "metadata": {},
     "output_type": "execute_result"
    }
   ],
   "source": [
    "attributes"
   ]
  }
 ],
 "metadata": {
  "kernelspec": {
   "display_name": "tfmc-env-3.11",
   "language": "python",
   "name": "python3"
  },
  "language_info": {
   "codemirror_mode": {
    "name": "ipython",
    "version": 3
   },
   "file_extension": ".py",
   "mimetype": "text/x-python",
   "name": "python",
   "nbconvert_exporter": "python",
   "pygments_lexer": "ipython3",
   "version": "3.11.5"
  }
 },
 "nbformat": 4,
 "nbformat_minor": 2
}
