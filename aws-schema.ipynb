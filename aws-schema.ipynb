{
 "cells": [
  {
   "cell_type": "markdown",
   "metadata": {},
   "source": [
    "# Terraform AWS Schema\n",
    "\n",
    "#### DO THIS ONCE:\n",
    "\n",
    "Generate the `aws-schema.json` with:\n",
    "\n",
    "    `terraform providers schema -json > aws-schema.json`"
   ]
  },
  {
   "cell_type": "code",
   "execution_count": null,
   "metadata": {},
   "outputs": [],
   "source": [
    "import json"
   ]
  },
  {
   "cell_type": "code",
   "execution_count": null,
   "metadata": {},
   "outputs": [],
   "source": [
    "AWS_SCHEMA_PATH = 'aws-schema.json'\n",
    "with open(AWS_SCHEMA_PATH) as f:\n",
    "    schema = json.loads(f.read())"
   ]
  },
  {
   "cell_type": "code",
   "execution_count": null,
   "metadata": {},
   "outputs": [],
   "source": [
    "aws = schema['provider_schemas']['registry.terraform.io/hashicorp/aws']\n",
    "\n",
    "aws_resource_schemas = aws['resource_schemas']\n",
    "aws_data_source_schemas = aws['data_source_schemas']"
   ]
  },
  {
   "cell_type": "code",
   "execution_count": null,
   "metadata": {},
   "outputs": [],
   "source": [
    "from difflib import get_close_matches\n",
    "import re\n",
    "\n",
    "for elem_k, elem_v in aws_resource_schemas.items():\n",
    "    # print(elem_k)\n",
    "    elem_attrs = elem_v['block']['attributes']\n",
    "    elem_attr_keys = [k for k, v in elem_attrs.items() \n",
    "                       if 'string' in v['type'] \n",
    "                       and k != elem_k\n",
    "                       and not k.endswith('_state')\n",
    "                       and not k.endswith('_type') ] \n",
    "    # alternatively, check only if ends with '_id', '_ids' or k itself\n",
    "\n",
    "    # get foreign keys without the 'aws' prefix\n",
    "    fk_attrs = [re.sub(r'^aws_', '', fk) for fk in aws_resource_schemas.keys()]\n",
    "\n",
    "    for k in elem_attr_keys:\n",
    "        fk_attrs_for_k = get_close_matches(k, [fk for fk in fk_attrs if fk in k])\n",
    "        if fk_attrs_for_k:\n",
    "            #print(f'\\t{k}')\n",
    "            #print(f'\\t\\t{fk_attrs_for_k}')\n",
    "            elem_attrs[k]['mm_type'] = f'aws_{fk_attrs_for_k[0]}'\n",
    "\n",
    "# TODO: add mm_type to block>datasomething"
   ]
  },
  {
   "cell_type": "markdown",
   "metadata": {},
   "source": [
    "Search for `mm_type` in the output."
   ]
  },
  {
   "cell_type": "code",
   "execution_count": null,
   "metadata": {},
   "outputs": [],
   "source": [
    "aws_resource_schemas"
   ]
  },
  {
   "cell_type": "markdown",
   "metadata": {},
   "source": [
    "Now `aws_resource_schemas` has the `mm_type` on its attributes."
   ]
  },
  {
   "cell_type": "code",
   "execution_count": null,
   "metadata": {},
   "outputs": [],
   "source": [
    "import hcl2\n",
    "\n",
    "AWS_TF_PATH = 'main.tf'\n",
    "with open(AWS_TF_PATH) as f:\n",
    "    tf = hcl2.load(f)\n",
    "\n",
    "tf_resources = tf['resource']"
   ]
  }
 ],
 "metadata": {
  "kernelspec": {
   "display_name": "tf-tests",
   "language": "python",
   "name": "python3"
  },
  "language_info": {
   "codemirror_mode": {
    "name": "ipython",
    "version": 3
   },
   "file_extension": ".py",
   "mimetype": "text/x-python",
   "name": "python",
   "nbconvert_exporter": "python",
   "pygments_lexer": "ipython3",
   "version": "3.11.3"
  },
  "orig_nbformat": 4
 },
 "nbformat": 4,
 "nbformat_minor": 2
}
